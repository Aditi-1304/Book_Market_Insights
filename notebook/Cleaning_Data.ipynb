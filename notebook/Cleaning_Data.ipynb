{
 "cells": [
  {
   "cell_type": "code",
   "execution_count": 4,
   "metadata": {},
   "outputs": [],
   "source": [
    "import pandas as pd\n",
    "import numpy as np"
   ]
  },
  {
   "cell_type": "code",
   "execution_count": 5,
   "metadata": {},
   "outputs": [
    {
     "name": "stdout",
     "output_type": "stream",
     "text": [
      "Dataset loaded successfully from: D:\\Book_Market_Insights\\data\\Books_Data_Clean.csv\n",
      "\n",
      "Initial Head:\n",
      "   index  Publishing Year                        Book Name  \\\n",
      "0      0           1975.0                          Beowulf   \n",
      "1      1           1987.0                 Batman: Year One   \n",
      "2      2           2015.0                Go Set a Watchman   \n",
      "3      3           2008.0  When You Are Engulfed in Flames   \n",
      "4      4           2011.0         Daughter of Smoke & Bone   \n",
      "\n",
      "                                              Author language_code  \\\n",
      "0                             Unknown, Seamus Heaney         en-US   \n",
      "1  Frank Miller, David Mazzucchelli, Richmond Lew...           eng   \n",
      "2                                         Harper Lee           eng   \n",
      "3                                      David Sedaris         en-US   \n",
      "4                                       Laini Taylor           eng   \n",
      "\n",
      "  Author_Rating  Book_average_rating  Book_ratings_count          genre  \\\n",
      "0        Novice                 3.42              155903  genre fiction   \n",
      "1  Intermediate                 4.23              145267  genre fiction   \n",
      "2        Novice                 3.31              138669  genre fiction   \n",
      "3  Intermediate                 4.04              150898        fiction   \n",
      "4  Intermediate                 4.04              198283  genre fiction   \n",
      "\n",
      "   gross sales  publisher revenue  sale price  sales rank  \\\n",
      "0      34160.0            20496.0        4.88           1   \n",
      "1      12437.5             7462.5        1.99           2   \n",
      "2      47795.0            28677.0        8.69           3   \n",
      "3      41250.0            24750.0        7.50           3   \n",
      "4      37952.5            22771.5        7.99           4   \n",
      "\n",
      "                       Publisher   units sold  \n",
      "0        HarperCollins Publishers        7000  \n",
      "1        HarperCollins Publishers        6250  \n",
      "2  Amazon Digital Services,  Inc.        5500  \n",
      "3             Hachette Book Group        5500  \n",
      "4         Penguin Group (USA) LLC        4750  \n",
      "\n",
      "Initial Info:\n",
      "<class 'pandas.core.frame.DataFrame'>\n",
      "RangeIndex: 1070 entries, 0 to 1069\n",
      "Data columns (total 15 columns):\n",
      " #   Column               Non-Null Count  Dtype  \n",
      "---  ------               --------------  -----  \n",
      " 0   index                1070 non-null   int64  \n",
      " 1   Publishing Year      1069 non-null   float64\n",
      " 2   Book Name            1047 non-null   object \n",
      " 3   Author               1070 non-null   object \n",
      " 4   language_code        1017 non-null   object \n",
      " 5   Author_Rating        1070 non-null   object \n",
      " 6   Book_average_rating  1070 non-null   float64\n",
      " 7   Book_ratings_count   1070 non-null   int64  \n",
      " 8   genre                1070 non-null   object \n",
      " 9   gross sales          1070 non-null   float64\n",
      " 10  publisher revenue    1070 non-null   float64\n",
      " 11  sale price           1070 non-null   float64\n",
      " 12  sales rank           1070 non-null   int64  \n",
      " 13  Publisher            1070 non-null   object \n",
      " 14  units sold           1070 non-null   int64  \n",
      "dtypes: float64(5), int64(4), object(6)\n",
      "memory usage: 125.5+ KB\n"
     ]
    }
   ],
   "source": [
    "file_path = 'D:\\Book_Market_Insights\\data\\Books_Data_Clean.csv'\n",
    "try:\n",
    "    df = pd.read_csv(file_path)\n",
    "    print(f\"Dataset loaded successfully from: {file_path}\")\n",
    "    print(\"\\nInitial Head:\")\n",
    "    print(df.head())\n",
    "    print(\"\\nInitial Info:\")\n",
    "    df.info()\n",
    "except FileNotFoundError:\n",
    "    print(f\"Error: The file '{file_path}' was not found. Please check the path and filename.\")\n",
    "    exit()"
   ]
  },
  {
   "cell_type": "code",
   "execution_count": 6,
   "metadata": {},
   "outputs": [],
   "source": [
    "df_cleaned = df.copy()"
   ]
  },
  {
   "cell_type": "code",
   "execution_count": null,
   "metadata": {},
   "outputs": [
    {
     "name": "stdout",
     "output_type": "stream",
     "text": [
      "\n",
      "--- Initial Data Inspection ---\n",
      "\n",
      "Missing values before cleaning:\n",
      "index                   0\n",
      "Publishing Year         1\n",
      "Book Name              23\n",
      "Author                  0\n",
      "language_code          53\n",
      "Author_Rating           0\n",
      "Book_average_rating     0\n",
      "Book_ratings_count      0\n",
      "genre                   0\n",
      "gross sales             0\n",
      "publisher revenue       0\n",
      "sale price              0\n",
      "sales rank              0\n",
      "Publisher               0\n",
      "units sold              0\n",
      "dtype: int64\n",
      "\n",
      "Descriptive statistics for numerical columns:\n",
      "             index  Publishing Year  Book_average_rating  Book_ratings_count  \\\n",
      "count  1070.000000      1069.000000          1070.000000         1070.000000   \n",
      "mean    534.500000      1971.377923             4.007000        94909.913084   \n",
      "std     309.026698       185.080257             0.247244        31513.242518   \n",
      "min       0.000000      -560.000000             2.970000        27308.000000   \n",
      "25%     267.250000      1985.000000             3.850000        70398.000000   \n",
      "50%     534.500000      2003.000000             4.015000        89309.000000   \n",
      "75%     801.750000      2010.000000             4.170000       113906.500000   \n",
      "max    1069.000000      2016.000000             4.770000       206792.000000   \n",
      "\n",
      "        gross sales  publisher revenue   sale price   sales rank    units sold  \n",
      "count   1070.000000        1070.000000  1070.000000  1070.000000   1070.000000  \n",
      "mean    1856.622944         843.281030     4.869561   611.652336   9676.980374  \n",
      "std     3936.924240        2257.596743     3.559919   369.849830  15370.571306  \n",
      "min      104.940000           0.000000     0.990000     1.000000    106.000000  \n",
      "25%      372.465000           0.000000     1.990000   287.500000    551.250000  \n",
      "50%      809.745000         273.078000     3.990000   595.500000   3924.000000  \n",
      "75%     1487.957500         721.180500     6.990000   932.500000   5312.250000  \n",
      "max    47795.000000       28677.000000    33.860000  1273.000000  61560.000000  \n",
      "\n",
      "Unique values in key categorical columns:\n",
      "Unique language codes: 8 -> ['en-US' 'eng' nan 'spa' 'en-GB' 'fre' 'en-CA' 'nl' 'ara']\n",
      "Unique Author_Ratings: 4 -> ['Novice' 'Intermediate' 'Famous' 'Excellent']\n",
      "Unique genres: 4 -> ['genre fiction' 'fiction' 'nonfiction' 'children']\n"
     ]
    }
   ],
   "source": [
    "print(\"\\n--- Initial Data Inspection ---\")\n",
    "print(\"\\nMissing values before cleaning:\")\n",
    "print(df_cleaned.isnull().sum())\n",
    "print(\"\\nDescriptive statistics for numerical columns:\")\n",
    "print(df_cleaned.describe())\n",
    "print(\"\\nUnique values in key categorical columns:\")\n",
    "print(f\"Unique language codes: {df_cleaned['language_code'].nunique()} -> {df_cleaned['language_code'].unique()}\")\n",
    "print(f\"Unique Author_Ratings: {df_cleaned['Author_Rating'].nunique()} -> {df_cleaned['Author_Rating'].unique()}\")\n",
    "print(f\"Unique genres: {df_cleaned['genre'].nunique()} -> {df_cleaned['genre'].unique()}\")"
   ]
  },
  {
   "cell_type": "code",
   "execution_count": 10,
   "metadata": {},
   "outputs": [
    {
     "name": "stdout",
     "output_type": "stream",
     "text": [
      "Converted 'Publishing Year' to int. Min: -560, Max: 2016\n"
     ]
    }
   ],
   "source": [
    "if df_cleaned['Publishing Year'].isnull().any():\n",
    "    mode_year = df_cleaned['Publishing Year'].mode()[0]\n",
    "    print(f\"\\nFilling missing 'Publishing Year' with mode: {int(mode_year)}\")\n",
    "    df_cleaned['Publishing Year'] = df_cleaned['Publishing Year'].fillna(mode_year)\n",
    "df_cleaned['Publishing Year'] = df_cleaned['Publishing Year'].astype(int)\n",
    "print(f\"Converted 'Publishing Year' to int. Min: {df_cleaned['Publishing Year'].min()}, Max: {df_cleaned['Publishing Year'].max()}\")\n"
   ]
  },
  {
   "cell_type": "code",
   "execution_count": 9,
   "metadata": {},
   "outputs": [
    {
     "name": "stdout",
     "output_type": "stream",
     "text": [
      "\n",
      "Created 'Primary Author' column. Example: 'Unknown, Seamus Heaney' -> 'Unknown'\n"
     ]
    }
   ],
   "source": [
    "df_cleaned['Primary Author'] = df_cleaned['Author'].apply(lambda x: str(x).split(',')[0].strip())\n",
    "print(f\"\\nCreated 'Primary Author' column. Example: '{df_cleaned['Author'].iloc[0]}' -> '{df_cleaned['Primary Author'].iloc[0]}'\")\n"
   ]
  },
  {
   "cell_type": "code",
   "execution_count": 11,
   "metadata": {},
   "outputs": [
    {
     "name": "stdout",
     "output_type": "stream",
     "text": [
      "\n",
      "Dropped 23 rows due to missing 'Book Name'.\n"
     ]
    }
   ],
   "source": [
    "initial_rows = df_cleaned.shape[0]\n",
    "df_cleaned.dropna(subset=['Book Name'], inplace=True)\n",
    "rows_after_book_name_drop = df_cleaned.shape[0]\n",
    "print(f\"\\nDropped {initial_rows - rows_after_book_name_drop} rows due to missing 'Book Name'.\")\n"
   ]
  },
  {
   "cell_type": "code",
   "execution_count": 12,
   "metadata": {},
   "outputs": [
    {
     "name": "stdout",
     "output_type": "stream",
     "text": [
      "Filled missing 'language_code' values with 'Unknown'. Unique language codes now: ['en-US' 'eng' 'Unknown' 'spa' 'en-GB' 'fre' 'en-CA' 'nl' 'ara']\n"
     ]
    }
   ],
   "source": [
    "df_cleaned['language_code'] = df_cleaned['language_code'].fillna('Unknown')\n",
    "print(f\"Filled missing 'language_code' values with 'Unknown'. Unique language codes now: {df_cleaned['language_code'].unique()}\")\n"
   ]
  },
  {
   "cell_type": "code",
   "execution_count": 13,
   "metadata": {},
   "outputs": [],
   "source": [
    "numerical_cols = ['Book_average_rating', 'Book_ratings_count', 'gross sales', 'publisher revenue', 'sale price', 'sales rank', 'units sold']\n",
    "for col in numerical_cols:\n",
    "    df_cleaned[col] = pd.to_numeric(df_cleaned[col], errors='coerce')\n",
    "    if df_cleaned[col].isnull().any():\n",
    "        print(f\"Warning: Missing values found in '{col}' after numeric conversion. Filling with 0 for now.\")\n",
    "        df_cleaned[col] = df_cleaned[col].fillna(0)\n"
   ]
  },
  {
   "cell_type": "code",
   "execution_count": 14,
   "metadata": {},
   "outputs": [],
   "source": [
    "df_cleaned['Total Revenue'] = df_cleaned['gross sales']\n",
    "df_cleaned['Publisher Profit'] = df_cleaned['publisher revenue']\n"
   ]
  },
  {
   "cell_type": "code",
   "execution_count": 15,
   "metadata": {},
   "outputs": [
    {
     "name": "stdout",
     "output_type": "stream",
     "text": [
      "\n",
      "Created 'Rating Category'. Example: 0      Average (3.0-3.5)\n",
      "1    Very Good (4.0-4.5)\n",
      "2      Average (3.0-3.5)\n",
      "3    Very Good (4.0-4.5)\n",
      "4    Very Good (4.0-4.5)\n",
      "Name: Rating Category, dtype: category\n",
      "Categories (5, object): ['Poor (<3.0)' < 'Average (3.0-3.5)' < 'Good (3.5-4.0)' < 'Very Good (4.0-4.5)' < 'Excellent (4.5-5.0)']\n"
     ]
    }
   ],
   "source": [
    "df_cleaned['Rating Category'] = pd.cut(\n",
    "    df_cleaned['Book_average_rating'],\n",
    "    bins=[0, 3.0, 3.5, 4.0, 4.5, 5.0],\n",
    "    labels=['Poor (<3.0)', 'Average (3.0-3.5)', 'Good (3.5-4.0)', 'Very Good (4.0-4.5)', 'Excellent (4.5-5.0)'],\n",
    "    right=True,\n",
    "    include_lowest=True \n",
    ")\n",
    "print(f\"\\nCreated 'Rating Category'. Example: {df_cleaned['Rating Category'].head()}\")\n"
   ]
  },
  {
   "cell_type": "code",
   "execution_count": 16,
   "metadata": {},
   "outputs": [
    {
     "name": "stdout",
     "output_type": "stream",
     "text": [
      "\n",
      "Standardized 'genre'. Unique genres now: ['Fiction' 'fiction' 'nonfiction' 'children']\n"
     ]
    }
   ],
   "source": [
    "df_cleaned['genre'] = df_cleaned['genre'].replace('genre fiction', 'Fiction')\n",
    "print(f\"\\nStandardized 'genre'. Unique genres now: {df_cleaned['genre'].unique()}\")\n"
   ]
  },
  {
   "cell_type": "code",
   "execution_count": 17,
   "metadata": {},
   "outputs": [
    {
     "name": "stdout",
     "output_type": "stream",
     "text": [
      "\n",
      "--- After Cleaning and Feature Engineering ---\n",
      "\n",
      "Cleaned DataFrame Info:\n",
      "<class 'pandas.core.frame.DataFrame'>\n",
      "Index: 1047 entries, 0 to 1069\n",
      "Data columns (total 19 columns):\n",
      " #   Column               Non-Null Count  Dtype   \n",
      "---  ------               --------------  -----   \n",
      " 0   index                1047 non-null   int64   \n",
      " 1   Publishing Year      1047 non-null   int32   \n",
      " 2   Book Name            1047 non-null   object  \n",
      " 3   Author               1047 non-null   object  \n",
      " 4   language_code        1047 non-null   object  \n",
      " 5   Author_Rating        1047 non-null   object  \n",
      " 6   Book_average_rating  1047 non-null   float64 \n",
      " 7   Book_ratings_count   1047 non-null   int64   \n",
      " 8   genre                1047 non-null   object  \n",
      " 9   gross sales          1047 non-null   float64 \n",
      " 10  publisher revenue    1047 non-null   float64 \n",
      " 11  sale price           1047 non-null   float64 \n",
      " 12  sales rank           1047 non-null   int64   \n",
      " 13  Publisher            1047 non-null   object  \n",
      " 14  units sold           1047 non-null   int64   \n",
      " 15  Primary Author       1047 non-null   object  \n",
      " 16  Total Revenue        1047 non-null   float64 \n",
      " 17  Publisher Profit     1047 non-null   float64 \n",
      " 18  Rating Category      1047 non-null   category\n",
      "dtypes: category(1), float64(6), int32(1), int64(4), object(7)\n",
      "memory usage: 152.6+ KB\n",
      "\n",
      "Missing values after cleaning:\n",
      "index                  0\n",
      "Publishing Year        0\n",
      "Book Name              0\n",
      "Author                 0\n",
      "language_code          0\n",
      "Author_Rating          0\n",
      "Book_average_rating    0\n",
      "Book_ratings_count     0\n",
      "genre                  0\n",
      "gross sales            0\n",
      "publisher revenue      0\n",
      "sale price             0\n",
      "sales rank             0\n",
      "Publisher              0\n",
      "units sold             0\n",
      "Primary Author         0\n",
      "Total Revenue          0\n",
      "Publisher Profit       0\n",
      "Rating Category        0\n",
      "dtype: int64\n",
      "\n",
      "Cleaned Head:\n",
      "   index  Publishing Year                        Book Name  \\\n",
      "0      0             1975                          Beowulf   \n",
      "1      1             1987                 Batman: Year One   \n",
      "2      2             2015                Go Set a Watchman   \n",
      "3      3             2008  When You Are Engulfed in Flames   \n",
      "4      4             2011         Daughter of Smoke & Bone   \n",
      "\n",
      "                                              Author language_code  \\\n",
      "0                             Unknown, Seamus Heaney         en-US   \n",
      "1  Frank Miller, David Mazzucchelli, Richmond Lew...           eng   \n",
      "2                                         Harper Lee           eng   \n",
      "3                                      David Sedaris         en-US   \n",
      "4                                       Laini Taylor           eng   \n",
      "\n",
      "  Author_Rating  Book_average_rating  Book_ratings_count    genre  \\\n",
      "0        Novice                 3.42              155903  Fiction   \n",
      "1  Intermediate                 4.23              145267  Fiction   \n",
      "2        Novice                 3.31              138669  Fiction   \n",
      "3  Intermediate                 4.04              150898  fiction   \n",
      "4  Intermediate                 4.04              198283  Fiction   \n",
      "\n",
      "   gross sales  publisher revenue  sale price  sales rank  \\\n",
      "0      34160.0            20496.0        4.88           1   \n",
      "1      12437.5             7462.5        1.99           2   \n",
      "2      47795.0            28677.0        8.69           3   \n",
      "3      41250.0            24750.0        7.50           3   \n",
      "4      37952.5            22771.5        7.99           4   \n",
      "\n",
      "                       Publisher   units sold Primary Author  Total Revenue  \\\n",
      "0        HarperCollins Publishers        7000        Unknown        34160.0   \n",
      "1        HarperCollins Publishers        6250   Frank Miller        12437.5   \n",
      "2  Amazon Digital Services,  Inc.        5500     Harper Lee        47795.0   \n",
      "3             Hachette Book Group        5500  David Sedaris        41250.0   \n",
      "4         Penguin Group (USA) LLC        4750   Laini Taylor        37952.5   \n",
      "\n",
      "   Publisher Profit      Rating Category  \n",
      "0           20496.0    Average (3.0-3.5)  \n",
      "1            7462.5  Very Good (4.0-4.5)  \n",
      "2           28677.0    Average (3.0-3.5)  \n",
      "3           24750.0  Very Good (4.0-4.5)  \n",
      "4           22771.5  Very Good (4.0-4.5)  \n"
     ]
    }
   ],
   "source": [
    "print(\"\\n--- After Cleaning and Feature Engineering ---\")\n",
    "print(\"\\nCleaned DataFrame Info:\")\n",
    "df_cleaned.info()\n",
    "print(\"\\nMissing values after cleaning:\")\n",
    "print(df_cleaned.isnull().sum())\n",
    "print(\"\\nCleaned Head:\")\n",
    "print(df_cleaned.head())"
   ]
  },
  {
   "cell_type": "code",
   "execution_count": 19,
   "metadata": {},
   "outputs": [
    {
     "name": "stdout",
     "output_type": "stream",
     "text": [
      "\n",
      "Cleaned data saved to: ../data/cleaned_books_data_for_powerbi.csv\n"
     ]
    }
   ],
   "source": [
    "output_file_path = '../data/cleaned_books_data_for_powerbi.csv'\n",
    "df_cleaned.to_csv(output_file_path, index=False)\n",
    "print(f\"\\nCleaned data saved to: {output_file_path}\")\n"
   ]
  },
  {
   "cell_type": "code",
   "execution_count": null,
   "metadata": {},
   "outputs": [],
   "source": []
  }
 ],
 "metadata": {
  "kernelspec": {
   "display_name": "base",
   "language": "python",
   "name": "python3"
  },
  "language_info": {
   "codemirror_mode": {
    "name": "ipython",
    "version": 3
   },
   "file_extension": ".py",
   "mimetype": "text/x-python",
   "name": "python",
   "nbconvert_exporter": "python",
   "pygments_lexer": "ipython3",
   "version": "3.11.5"
  }
 },
 "nbformat": 4,
 "nbformat_minor": 2
}
